{
 "cells": [
  {
   "cell_type": "code",
   "execution_count": 5,
   "metadata": {},
   "outputs": [
    {
     "name": "stderr",
     "output_type": "stream",
     "text": [
      "Warning message in matrix(1:10, nrow = 4, ncol = 4):\n",
      "“data length [10] is not a sub-multiple or multiple of the number of rows [4]”"
     ]
    },
    {
     "data": {
      "text/html": [
       "<table>\n",
       "<tbody>\n",
       "\t<tr><td>1 </td><td>5 </td><td> 9</td><td>3 </td></tr>\n",
       "\t<tr><td>2 </td><td>6 </td><td>10</td><td>4 </td></tr>\n",
       "\t<tr><td>3 </td><td>7 </td><td> 1</td><td>5 </td></tr>\n",
       "\t<tr><td>4 </td><td>8 </td><td> 2</td><td>6 </td></tr>\n",
       "</tbody>\n",
       "</table>\n"
      ],
      "text/latex": [
       "\\begin{tabular}{llll}\n",
       "\t 1  & 5  &  9 & 3 \\\\\n",
       "\t 2  & 6  & 10 & 4 \\\\\n",
       "\t 3  & 7  &  1 & 5 \\\\\n",
       "\t 4  & 8  &  2 & 6 \\\\\n",
       "\\end{tabular}\n"
      ],
      "text/markdown": [
       "\n",
       "| 1  | 5  |  9 | 3  | \n",
       "| 2  | 6  | 10 | 4  | \n",
       "| 3  | 7  |  1 | 5  | \n",
       "| 4  | 8  |  2 | 6  | \n",
       "\n",
       "\n"
      ],
      "text/plain": [
       "     [,1] [,2] [,3] [,4]\n",
       "[1,] 1    5     9   3   \n",
       "[2,] 2    6    10   4   \n",
       "[3,] 3    7     1   5   \n",
       "[4,] 4    8     2   6   "
      ]
     },
     "metadata": {},
     "output_type": "display_data"
    }
   ],
   "source": [
    "m1 <- matrix(1:10, nrow = 4, ncol = 4)\n",
    "m1"
   ]
  },
  {
   "cell_type": "code",
   "execution_count": 6,
   "metadata": {},
   "outputs": [
    {
     "data": {
      "text/html": [
       "<table>\n",
       "<thead><tr><th scope=col>first</th><th scope=col>second</th></tr></thead>\n",
       "<tbody>\n",
       "\t<tr><td>1 </td><td>a </td></tr>\n",
       "\t<tr><td>2 </td><td>b </td></tr>\n",
       "\t<tr><td>3 </td><td>cd</td></tr>\n",
       "</tbody>\n",
       "</table>\n"
      ],
      "text/latex": [
       "\\begin{tabular}{r|ll}\n",
       " first & second\\\\\n",
       "\\hline\n",
       "\t 1  & a \\\\\n",
       "\t 2  & b \\\\\n",
       "\t 3  & cd\\\\\n",
       "\\end{tabular}\n"
      ],
      "text/markdown": [
       "\n",
       "first | second | \n",
       "|---|---|---|\n",
       "| 1  | a  | \n",
       "| 2  | b  | \n",
       "| 3  | cd | \n",
       "\n",
       "\n"
      ],
      "text/plain": [
       "  first second\n",
       "1 1     a     \n",
       "2 2     b     \n",
       "3 3     cd    "
      ]
     },
     "metadata": {},
     "output_type": "display_data"
    }
   ],
   "source": [
    "first = 1:3\n",
    "second = c(\"a\", \"b\", \"cd\")\n",
    "d <- data.frame(first, second)\n",
    "d"
   ]
  },
  {
   "cell_type": "code",
   "execution_count": 1,
   "metadata": {},
   "outputs": [],
   "source": [
    "char.vector <- c(\"male\", \"female\", \"female\", \"male\")"
   ]
  },
  {
   "cell_type": "code",
   "execution_count": 3,
   "metadata": {},
   "outputs": [
    {
     "data": {
      "text/html": [
       "<ol class=list-inline>\n",
       "\t<li>male</li>\n",
       "\t<li>female</li>\n",
       "\t<li>female</li>\n",
       "\t<li>male</li>\n",
       "</ol>\n",
       "\n",
       "<details>\n",
       "\t<summary style=display:list-item;cursor:pointer>\n",
       "\t\t<strong>Levels</strong>:\n",
       "\t</summary>\n",
       "\t<ol class=list-inline>\n",
       "\t\t<li>'female'</li>\n",
       "\t\t<li>'male'</li>\n",
       "\t</ol>\n",
       "</details>"
      ],
      "text/latex": [
       "\\begin{enumerate*}\n",
       "\\item male\n",
       "\\item female\n",
       "\\item female\n",
       "\\item male\n",
       "\\end{enumerate*}\n",
       "\n",
       "\\emph{Levels}: \\begin{enumerate*}\n",
       "\\item 'female'\n",
       "\\item 'male'\n",
       "\\end{enumerate*}\n"
      ],
      "text/markdown": [
       "1. male\n",
       "2. female\n",
       "3. female\n",
       "4. male\n",
       "\n",
       "\n",
       "\n",
       "**Levels**: 1. 'female'\n",
       "2. 'male'\n",
       "\n",
       "\n"
      ],
      "text/plain": [
       "[1] male   female female male  \n",
       "Levels: female male"
      ]
     },
     "metadata": {},
     "output_type": "display_data"
    }
   ],
   "source": [
    "f <- factor(char.vector)\n",
    "f"
   ]
  },
  {
   "cell_type": "code",
   "execution_count": 4,
   "metadata": {},
   "outputs": [
    {
     "data": {
      "text/html": [
       "<ol class=list-inline>\n",
       "\t<li>'female'</li>\n",
       "\t<li>'male'</li>\n",
       "</ol>\n"
      ],
      "text/latex": [
       "\\begin{enumerate*}\n",
       "\\item 'female'\n",
       "\\item 'male'\n",
       "\\end{enumerate*}\n"
      ],
      "text/markdown": [
       "1. 'female'\n",
       "2. 'male'\n",
       "\n",
       "\n"
      ],
      "text/plain": [
       "[1] \"female\" \"male\"  "
      ]
     },
     "metadata": {},
     "output_type": "display_data"
    }
   ],
   "source": [
    "levels(f)\n"
   ]
  },
  {
   "cell_type": "code",
   "execution_count": 5,
   "metadata": {},
   "outputs": [
    {
     "data": {
      "text/html": [
       "<ol class=list-inline>\n",
       "\t<li>2</li>\n",
       "\t<li>1</li>\n",
       "\t<li>1</li>\n",
       "\t<li>2</li>\n",
       "</ol>\n"
      ],
      "text/latex": [
       "\\begin{enumerate*}\n",
       "\\item 2\n",
       "\\item 1\n",
       "\\item 1\n",
       "\\item 2\n",
       "\\end{enumerate*}\n"
      ],
      "text/markdown": [
       "1. 2\n",
       "2. 1\n",
       "3. 1\n",
       "4. 2\n",
       "\n",
       "\n"
      ],
      "text/plain": [
       "[1] 2 1 1 2\n",
       "attr(,\"levels\")\n",
       "[1] \"female\" \"male\"  "
      ]
     },
     "metadata": {},
     "output_type": "display_data"
    }
   ],
   "source": [
    "unclass(f)"
   ]
  },
  {
   "cell_type": "code",
   "execution_count": 6,
   "metadata": {},
   "outputs": [
    {
     "data": {
      "text/html": [
       "<ol class=list-inline>\n",
       "\t<li>-2</li>\n",
       "\t<li>-4</li>\n",
       "\t<li>-6</li>\n",
       "</ol>\n"
      ],
      "text/latex": [
       "\\begin{enumerate*}\n",
       "\\item -2\n",
       "\\item -4\n",
       "\\item -6\n",
       "\\end{enumerate*}\n"
      ],
      "text/markdown": [
       "1. -2\n",
       "2. -4\n",
       "3. -6\n",
       "\n",
       "\n"
      ],
      "text/plain": [
       "[1] -2 -4 -6"
      ]
     },
     "metadata": {},
     "output_type": "display_data"
    }
   ],
   "source": [
    "c(1,1,2) - c(3,5,8)\n"
   ]
  },
  {
   "cell_type": "code",
   "execution_count": 7,
   "metadata": {},
   "outputs": [
    {
     "data": {
      "text/html": [
       "<ol class=list-inline>\n",
       "\t<li>3</li>\n",
       "\t<li>3</li>\n",
       "\t<li>6</li>\n",
       "</ol>\n"
      ],
      "text/latex": [
       "\\begin{enumerate*}\n",
       "\\item 3\n",
       "\\item 3\n",
       "\\item 6\n",
       "\\end{enumerate*}\n"
      ],
      "text/markdown": [
       "1. 3\n",
       "2. 3\n",
       "3. 6\n",
       "\n",
       "\n"
      ],
      "text/plain": [
       "[1] 3 3 6"
      ]
     },
     "metadata": {},
     "output_type": "display_data"
    }
   ],
   "source": [
    "c(1,1,2) * 3\n"
   ]
  },
  {
   "cell_type": "code",
   "execution_count": 8,
   "metadata": {},
   "outputs": [
    {
     "data": {
      "text/html": [
       "<ol class=list-inline>\n",
       "\t<li>3</li>\n",
       "\t<li>5</li>\n",
       "\t<li>16</li>\n",
       "</ol>\n"
      ],
      "text/latex": [
       "\\begin{enumerate*}\n",
       "\\item 3\n",
       "\\item 5\n",
       "\\item 16\n",
       "\\end{enumerate*}\n"
      ],
      "text/markdown": [
       "1. 3\n",
       "2. 5\n",
       "3. 16\n",
       "\n",
       "\n"
      ],
      "text/plain": [
       "[1]  3  5 16"
      ]
     },
     "metadata": {},
     "output_type": "display_data"
    }
   ],
   "source": [
    "c(1,1,2) * c(3,5,8)\n"
   ]
  },
  {
   "cell_type": "code",
   "execution_count": 11,
   "metadata": {},
   "outputs": [
    {
     "data": {
      "text/html": [
       "<table>\n",
       "<tbody>\n",
       "\t<tr><td>1</td><td>3</td></tr>\n",
       "\t<tr><td>2</td><td>4</td></tr>\n",
       "</tbody>\n",
       "</table>\n"
      ],
      "text/latex": [
       "\\begin{tabular}{ll}\n",
       "\t 1 & 3\\\\\n",
       "\t 2 & 4\\\\\n",
       "\\end{tabular}\n"
      ],
      "text/markdown": [
       "\n",
       "| 1 | 3 | \n",
       "| 2 | 4 | \n",
       "\n",
       "\n"
      ],
      "text/plain": [
       "     [,1] [,2]\n",
       "[1,] 1    3   \n",
       "[2,] 2    4   "
      ]
     },
     "metadata": {},
     "output_type": "display_data"
    },
    {
     "data": {
      "text/html": [
       "<table>\n",
       "<tbody>\n",
       "\t<tr><td>1 </td><td> 9</td></tr>\n",
       "\t<tr><td>4 </td><td>16</td></tr>\n",
       "</tbody>\n",
       "</table>\n"
      ],
      "text/latex": [
       "\\begin{tabular}{ll}\n",
       "\t 1  &  9\\\\\n",
       "\t 4  & 16\\\\\n",
       "\\end{tabular}\n"
      ],
      "text/markdown": [
       "\n",
       "| 1  |  9 | \n",
       "| 4  | 16 | \n",
       "\n",
       "\n"
      ],
      "text/plain": [
       "     [,1] [,2]\n",
       "[1,] 1     9  \n",
       "[2,] 4    16  "
      ]
     },
     "metadata": {},
     "output_type": "display_data"
    }
   ],
   "source": [
    "a <- matrix(1:4, 2, 2)\n",
    "a\n",
    "\n",
    "a * a"
   ]
  },
  {
   "cell_type": "code",
   "execution_count": 12,
   "metadata": {},
   "outputs": [
    {
     "data": {
      "text/html": [
       "<table>\n",
       "<tbody>\n",
       "\t<tr><td>23</td></tr>\n",
       "</tbody>\n",
       "</table>\n"
      ],
      "text/latex": [
       "\\begin{tabular}{l}\n",
       "\t 23\\\\\n",
       "\\end{tabular}\n"
      ],
      "text/markdown": [
       "\n",
       "| 23 | \n",
       "\n",
       "\n"
      ],
      "text/plain": [
       "     [,1]\n",
       "[1,] 23  "
      ]
     },
     "metadata": {},
     "output_type": "display_data"
    }
   ],
   "source": [
    "c(2,3,5) %*% c(1,2,3)"
   ]
  },
  {
   "cell_type": "code",
   "execution_count": 13,
   "metadata": {},
   "outputs": [
    {
     "data": {
      "text/html": [
       "<table>\n",
       "<tbody>\n",
       "\t<tr><td> 7</td><td>15</td></tr>\n",
       "\t<tr><td>10</td><td>22</td></tr>\n",
       "</tbody>\n",
       "</table>\n"
      ],
      "text/latex": [
       "\\begin{tabular}{ll}\n",
       "\t  7 & 15\\\\\n",
       "\t 10 & 22\\\\\n",
       "\\end{tabular}\n"
      ],
      "text/markdown": [
       "\n",
       "|  7 | 15 | \n",
       "| 10 | 22 | \n",
       "\n",
       "\n"
      ],
      "text/plain": [
       "     [,1] [,2]\n",
       "[1,]  7   15  \n",
       "[2,] 10   22  "
      ]
     },
     "metadata": {},
     "output_type": "display_data"
    }
   ],
   "source": [
    "a %*% a\n"
   ]
  },
  {
   "cell_type": "code",
   "execution_count": 14,
   "metadata": {},
   "outputs": [
    {
     "data": {
      "text/html": [
       "'You are welcome!'"
      ],
      "text/latex": [
       "'You are welcome!'"
      ],
      "text/markdown": [
       "'You are welcome!'"
      ],
      "text/plain": [
       "[1] \"You are welcome!\""
      ]
     },
     "metadata": {},
     "output_type": "display_data"
    }
   ],
   "source": [
    "paste(c(\"You\", \"are\", \"welcome!\"), collapse = \" \")\n"
   ]
  },
  {
   "cell_type": "code",
   "execution_count": 16,
   "metadata": {},
   "outputs": [],
   "source": [
    "y <- c(1,1,2,3,5,8)"
   ]
  },
  {
   "cell_type": "code",
   "execution_count": 17,
   "metadata": {},
   "outputs": [
    {
     "data": {
      "text/html": [
       "<ol class=list-inline>\n",
       "\t<li>1</li>\n",
       "\t<li>1</li>\n",
       "\t<li>2</li>\n",
       "\t<li>3</li>\n",
       "\t<li>5</li>\n",
       "\t<li>8</li>\n",
       "</ol>\n"
      ],
      "text/latex": [
       "\\begin{enumerate*}\n",
       "\\item 1\n",
       "\\item 1\n",
       "\\item 2\n",
       "\\item 3\n",
       "\\item 5\n",
       "\\item 8\n",
       "\\end{enumerate*}\n"
      ],
      "text/markdown": [
       "1. 1\n",
       "2. 1\n",
       "3. 2\n",
       "4. 3\n",
       "5. 5\n",
       "6. 8\n",
       "\n",
       "\n"
      ],
      "text/plain": [
       "[1] 1 1 2 3 5 8"
      ]
     },
     "metadata": {},
     "output_type": "display_data"
    }
   ],
   "source": [
    "y"
   ]
  },
  {
   "cell_type": "code",
   "execution_count": 18,
   "metadata": {},
   "outputs": [
    {
     "data": {
      "text/html": [
       "<ol class=list-inline>\n",
       "\t<li>FALSE</li>\n",
       "\t<li>FALSE</li>\n",
       "\t<li>TRUE</li>\n",
       "\t<li>TRUE</li>\n",
       "\t<li>TRUE</li>\n",
       "\t<li>TRUE</li>\n",
       "</ol>\n"
      ],
      "text/latex": [
       "\\begin{enumerate*}\n",
       "\\item FALSE\n",
       "\\item FALSE\n",
       "\\item TRUE\n",
       "\\item TRUE\n",
       "\\item TRUE\n",
       "\\item TRUE\n",
       "\\end{enumerate*}\n"
      ],
      "text/markdown": [
       "1. FALSE\n",
       "2. FALSE\n",
       "3. TRUE\n",
       "4. TRUE\n",
       "5. TRUE\n",
       "6. TRUE\n",
       "\n",
       "\n"
      ],
      "text/plain": [
       "[1] FALSE FALSE  TRUE  TRUE  TRUE  TRUE"
      ]
     },
     "metadata": {},
     "output_type": "display_data"
    }
   ],
   "source": [
    "y>1"
   ]
  },
  {
   "cell_type": "code",
   "execution_count": 19,
   "metadata": {},
   "outputs": [],
   "source": [
    "my.adder.func <- function(x, y) {\n",
    "  x + y\n",
    "}\n"
   ]
  },
  {
   "cell_type": "code",
   "execution_count": 20,
   "metadata": {},
   "outputs": [
    {
     "data": {
      "text/html": [
       "7"
      ],
      "text/latex": [
       "7"
      ],
      "text/markdown": [
       "7"
      ],
      "text/plain": [
       "[1] 7"
      ]
     },
     "metadata": {},
     "output_type": "display_data"
    }
   ],
   "source": [
    "my.adder.func(3, 4)"
   ]
  },
  {
   "cell_type": "code",
   "execution_count": 21,
   "metadata": {},
   "outputs": [
    {
     "data": {
      "text/html": [
       "3"
      ],
      "text/latex": [
       "3"
      ],
      "text/markdown": [
       "3"
      ],
      "text/plain": [
       "[1] 3"
      ]
     },
     "metadata": {},
     "output_type": "display_data"
    },
    {
     "data": {
      "text/html": [
       "7"
      ],
      "text/latex": [
       "7"
      ],
      "text/markdown": [
       "7"
      ],
      "text/plain": [
       "[1] 7"
      ]
     },
     "metadata": {},
     "output_type": "display_data"
    }
   ],
   "source": [
    "my.strange.adder <- function(x, y = 1) {\n",
    "  x + y\n",
    "}\n",
    "\n",
    "my.strange.adder(2)\n",
    "my.strange.adder(2, 5)"
   ]
  },
  {
   "cell_type": "code",
   "execution_count": 22,
   "metadata": {},
   "outputs": [
    {
     "data": {
      "text/html": [
       "2"
      ],
      "text/latex": [
       "2"
      ],
      "text/markdown": [
       "2"
      ],
      "text/plain": [
       "[1] 2"
      ]
     },
     "metadata": {},
     "output_type": "display_data"
    },
    {
     "data": {
      "text/html": [
       "<ol class=list-inline>\n",
       "\t<li>1</li>\n",
       "\t<li>2</li>\n",
       "\t<li>3</li>\n",
       "</ol>\n"
      ],
      "text/latex": [
       "\\begin{enumerate*}\n",
       "\\item 1\n",
       "\\item 2\n",
       "\\item 3\n",
       "\\end{enumerate*}\n"
      ],
      "text/markdown": [
       "1. 1\n",
       "2. 2\n",
       "3. 3\n",
       "\n",
       "\n"
      ],
      "text/plain": [
       "[1] 1 2 3"
      ]
     },
     "metadata": {},
     "output_type": "display_data"
    },
    {
     "data": {
      "text/html": [
       "<ol class=list-inline>\n",
       "\t<li>0</li>\n",
       "\t<li>3</li>\n",
       "\t<li>5</li>\n",
       "\t<li>8</li>\n",
       "</ol>\n"
      ],
      "text/latex": [
       "\\begin{enumerate*}\n",
       "\\item 0\n",
       "\\item 3\n",
       "\\item 5\n",
       "\\item 8\n",
       "\\end{enumerate*}\n"
      ],
      "text/markdown": [
       "1. 0\n",
       "2. 3\n",
       "3. 5\n",
       "4. 8\n",
       "\n",
       "\n"
      ],
      "text/plain": [
       "[1] 0 3 5 8"
      ]
     },
     "metadata": {},
     "output_type": "display_data"
    },
    {
     "data": {
      "text/html": [
       "<ol class=list-inline>\n",
       "\t<li>2</li>\n",
       "\t<li>3</li>\n",
       "</ol>\n"
      ],
      "text/latex": [
       "\\begin{enumerate*}\n",
       "\\item 2\n",
       "\\item 3\n",
       "\\end{enumerate*}\n"
      ],
      "text/markdown": [
       "1. 2\n",
       "2. 3\n",
       "\n",
       "\n"
      ],
      "text/plain": [
       "[1] 2 3"
      ]
     },
     "metadata": {},
     "output_type": "display_data"
    },
    {
     "data": {
      "text/html": [
       "<ol class=list-inline>\n",
       "\t<li>2</li>\n",
       "\t<li>3</li>\n",
       "\t<li>5</li>\n",
       "\t<li>8</li>\n",
       "</ol>\n"
      ],
      "text/latex": [
       "\\begin{enumerate*}\n",
       "\\item 2\n",
       "\\item 3\n",
       "\\item 5\n",
       "\\item 8\n",
       "\\end{enumerate*}\n"
      ],
      "text/markdown": [
       "1. 2\n",
       "2. 3\n",
       "3. 5\n",
       "4. 8\n",
       "\n",
       "\n"
      ],
      "text/plain": [
       "[1] 2 3 5 8"
      ]
     },
     "metadata": {},
     "output_type": "display_data"
    },
    {
     "data": {
      "text/html": [
       "<ol class=list-inline>\n",
       "\t<li>3</li>\n",
       "\t<li>4</li>\n",
       "\t<li>5</li>\n",
       "\t<li>6</li>\n",
       "</ol>\n"
      ],
      "text/latex": [
       "\\begin{enumerate*}\n",
       "\\item 3\n",
       "\\item 4\n",
       "\\item 5\n",
       "\\item 6\n",
       "\\end{enumerate*}\n"
      ],
      "text/markdown": [
       "1. 3\n",
       "2. 4\n",
       "3. 5\n",
       "4. 6\n",
       "\n",
       "\n"
      ],
      "text/plain": [
       "[1] 3 4 5 6"
      ]
     },
     "metadata": {},
     "output_type": "display_data"
    },
    {
     "data": {
      "text/html": [
       "<ol class=list-inline>\n",
       "\t<li>1</li>\n",
       "\t<li>3</li>\n",
       "</ol>\n"
      ],
      "text/latex": [
       "\\begin{enumerate*}\n",
       "\\item 1\n",
       "\\item 3\n",
       "\\end{enumerate*}\n"
      ],
      "text/markdown": [
       "1. 1\n",
       "2. 3\n",
       "\n",
       "\n"
      ],
      "text/plain": [
       "[1] 1 3"
      ]
     },
     "metadata": {},
     "output_type": "display_data"
    }
   ],
   "source": [
    "y <- c(0,1,2,3,5,8)\n",
    "\n",
    "y[3]\n",
    "\n",
    "y[2:4]\n",
    "\n",
    "y[-c(2,3)]\n",
    "\n",
    "y[c(F, F, T, T, F, F)]\n",
    "\n",
    "y[y >= 2] # returns values\n",
    "\n",
    "which(y >= 2) # returns indices\n",
    "\n",
    "which(c(T,F,T))"
   ]
  },
  {
   "cell_type": "code",
   "execution_count": 24,
   "metadata": {
    "code_folding": []
   },
   "outputs": [
    {
     "data": {
      "text/html": [
       "<ol>\n",
       "\t<li>'a'</li>\n",
       "\t<li>FALSE</li>\n",
       "\t<li>4</li>\n",
       "</ol>\n"
      ],
      "text/latex": [
       "\\begin{enumerate}\n",
       "\\item 'a'\n",
       "\\item FALSE\n",
       "\\item 4\n",
       "\\end{enumerate}\n"
      ],
      "text/markdown": [
       "1. 'a'\n",
       "2. FALSE\n",
       "3. 4\n",
       "\n",
       "\n"
      ],
      "text/plain": [
       "[[1]]\n",
       "[1] \"a\"\n",
       "\n",
       "[[2]]\n",
       "[1] FALSE\n",
       "\n",
       "[[3]]\n",
       "[1] 4\n"
      ]
     },
     "metadata": {},
     "output_type": "display_data"
    },
    {
     "data": {
      "text/html": [
       "<ol>\n",
       "\t<li>'a'</li>\n",
       "</ol>\n"
      ],
      "text/latex": [
       "\\begin{enumerate}\n",
       "\\item 'a'\n",
       "\\end{enumerate}\n"
      ],
      "text/markdown": [
       "1. 'a'\n",
       "\n",
       "\n"
      ],
      "text/plain": [
       "[[1]]\n",
       "[1] \"a\"\n"
      ]
     },
     "metadata": {},
     "output_type": "display_data"
    },
    {
     "data": {
      "text/html": [
       "'a'"
      ],
      "text/latex": [
       "'a'"
      ],
      "text/markdown": [
       "'a'"
      ],
      "text/plain": [
       "[1] \"a\""
      ]
     },
     "metadata": {},
     "output_type": "display_data"
    },
    {
     "data": {
      "text/html": [
       "<ol>\n",
       "\t<li>'a'</li>\n",
       "\t<li>FALSE</li>\n",
       "</ol>\n"
      ],
      "text/latex": [
       "\\begin{enumerate}\n",
       "\\item 'a'\n",
       "\\item FALSE\n",
       "\\end{enumerate}\n"
      ],
      "text/markdown": [
       "1. 'a'\n",
       "2. FALSE\n",
       "\n",
       "\n"
      ],
      "text/plain": [
       "[[1]]\n",
       "[1] \"a\"\n",
       "\n",
       "[[2]]\n",
       "[1] FALSE\n"
      ]
     },
     "metadata": {},
     "output_type": "display_data"
    },
    {
     "data": {
      "text/html": [
       "<ol>\n",
       "\t<li><ol>\n",
       "\t<li>'a'</li>\n",
       "\t<li>FALSE</li>\n",
       "\t<li>4</li>\n",
       "</ol>\n",
       "</li>\n",
       "\t<li>1</li>\n",
       "</ol>\n"
      ],
      "text/latex": [
       "\\begin{enumerate}\n",
       "\\item \\begin{enumerate}\n",
       "\\item 'a'\n",
       "\\item FALSE\n",
       "\\item 4\n",
       "\\end{enumerate}\n",
       "\n",
       "\\item 1\n",
       "\\end{enumerate}\n"
      ],
      "text/markdown": [
       "1. 1. 'a'\n",
       "2. FALSE\n",
       "3. 4\n",
       "\n",
       "\n",
       "\n",
       "2. 1\n",
       "\n",
       "\n"
      ],
      "text/plain": [
       "[[1]]\n",
       "[[1]][[1]]\n",
       "[1] \"a\"\n",
       "\n",
       "[[1]][[2]]\n",
       "[1] FALSE\n",
       "\n",
       "[[1]][[3]]\n",
       "[1] 4\n",
       "\n",
       "\n",
       "[[2]]\n",
       "[1] 1\n"
      ]
     },
     "metadata": {},
     "output_type": "display_data"
    },
    {
     "data": {
      "text/html": [
       "FALSE"
      ],
      "text/latex": [
       "FALSE"
      ],
      "text/markdown": [
       "FALSE"
      ],
      "text/plain": [
       "[1] FALSE"
      ]
     },
     "metadata": {},
     "output_type": "display_data"
    }
   ],
   "source": [
    "list1 <- list(\"a\", FALSE, 4)\n",
    "list1\n",
    "\n",
    "list1[1] # sublist with the 1st element\n",
    "list1[[1]] # the 1st element\n",
    "\n",
    "list1[1:2] # sublist\n",
    "# list1[[1:2]] # the 2nd element of the 1st element (error)\n",
    "\n",
    "list2 <- list(list1, 1) # nested list\n",
    "list2\n",
    "list2[[1:2]]"
   ]
  },
  {
   "cell_type": "code",
   "execution_count": 25,
   "metadata": {},
   "outputs": [
    {
     "data": {
      "text/html": [
       "<table>\n",
       "<thead><tr><th scope=col>first</th><th scope=col>second</th></tr></thead>\n",
       "<tbody>\n",
       "\t<tr><td>4</td><td>a</td></tr>\n",
       "\t<tr><td>5</td><td>b</td></tr>\n",
       "\t<tr><td>6</td><td>c</td></tr>\n",
       "</tbody>\n",
       "</table>\n"
      ],
      "text/latex": [
       "\\begin{tabular}{r|ll}\n",
       " first & second\\\\\n",
       "\\hline\n",
       "\t 4 & a\\\\\n",
       "\t 5 & b\\\\\n",
       "\t 6 & c\\\\\n",
       "\\end{tabular}\n"
      ],
      "text/markdown": [
       "\n",
       "first | second | \n",
       "|---|---|---|\n",
       "| 4 | a | \n",
       "| 5 | b | \n",
       "| 6 | c | \n",
       "\n",
       "\n"
      ],
      "text/plain": [
       "  first second\n",
       "1 4     a     \n",
       "2 5     b     \n",
       "3 6     c     "
      ]
     },
     "metadata": {},
     "output_type": "display_data"
    },
    {
     "data": {
      "text/html": [
       "b\n",
       "<details>\n",
       "\t<summary style=display:list-item;cursor:pointer>\n",
       "\t\t<strong>Levels</strong>:\n",
       "\t</summary>\n",
       "\t<ol class=list-inline>\n",
       "\t\t<li>'a'</li>\n",
       "\t\t<li>'b'</li>\n",
       "\t\t<li>'c'</li>\n",
       "\t</ol>\n",
       "</details>"
      ],
      "text/latex": [
       "b\n",
       "\\emph{Levels}: \\begin{enumerate*}\n",
       "\\item 'a'\n",
       "\\item 'b'\n",
       "\\item 'c'\n",
       "\\end{enumerate*}\n"
      ],
      "text/markdown": [
       "b\n",
       "**Levels**: 1. 'a'\n",
       "2. 'b'\n",
       "3. 'c'\n",
       "\n",
       "\n"
      ],
      "text/plain": [
       "[1] b\n",
       "Levels: a b c"
      ]
     },
     "metadata": {},
     "output_type": "display_data"
    },
    {
     "data": {
      "text/html": [
       "<table>\n",
       "<thead><tr><th></th><th scope=col>first</th><th scope=col>second</th></tr></thead>\n",
       "<tbody>\n",
       "\t<tr><th scope=row>2</th><td>5</td><td>b</td></tr>\n",
       "</tbody>\n",
       "</table>\n"
      ],
      "text/latex": [
       "\\begin{tabular}{r|ll}\n",
       "  & first & second\\\\\n",
       "\\hline\n",
       "\t2 & 5 & b\\\\\n",
       "\\end{tabular}\n"
      ],
      "text/markdown": [
       "\n",
       "| <!--/--> | first | second | \n",
       "|---|\n",
       "| 2 | 5 | b | \n",
       "\n",
       "\n"
      ],
      "text/plain": [
       "  first second\n",
       "2 5     b     "
      ]
     },
     "metadata": {},
     "output_type": "display_data"
    },
    {
     "data": {
      "text/html": [
       "<ol class=list-inline>\n",
       "\t<li>4</li>\n",
       "\t<li>5</li>\n",
       "\t<li>6</li>\n",
       "</ol>\n"
      ],
      "text/latex": [
       "\\begin{enumerate*}\n",
       "\\item 4\n",
       "\\item 5\n",
       "\\item 6\n",
       "\\end{enumerate*}\n"
      ],
      "text/markdown": [
       "1. 4\n",
       "2. 5\n",
       "3. 6\n",
       "\n",
       "\n"
      ],
      "text/plain": [
       "[1] 4 5 6"
      ]
     },
     "metadata": {},
     "output_type": "display_data"
    },
    {
     "data": {
      "text/html": [
       "<ol class=list-inline>\n",
       "\t<li>4</li>\n",
       "\t<li>5</li>\n",
       "\t<li>6</li>\n",
       "</ol>\n"
      ],
      "text/latex": [
       "\\begin{enumerate*}\n",
       "\\item 4\n",
       "\\item 5\n",
       "\\item 6\n",
       "\\end{enumerate*}\n"
      ],
      "text/markdown": [
       "1. 4\n",
       "2. 5\n",
       "3. 6\n",
       "\n",
       "\n"
      ],
      "text/plain": [
       "[1] 4 5 6"
      ]
     },
     "metadata": {},
     "output_type": "display_data"
    },
    {
     "data": {
      "text/html": [
       "<ol class=list-inline>\n",
       "\t<li>4</li>\n",
       "\t<li>5</li>\n",
       "\t<li>6</li>\n",
       "</ol>\n"
      ],
      "text/latex": [
       "\\begin{enumerate*}\n",
       "\\item 4\n",
       "\\item 5\n",
       "\\item 6\n",
       "\\end{enumerate*}\n"
      ],
      "text/markdown": [
       "1. 4\n",
       "2. 5\n",
       "3. 6\n",
       "\n",
       "\n"
      ],
      "text/plain": [
       "[1] 4 5 6"
      ]
     },
     "metadata": {},
     "output_type": "display_data"
    },
    {
     "data": {
      "text/html": [
       "5"
      ],
      "text/latex": [
       "5"
      ],
      "text/markdown": [
       "5"
      ],
      "text/plain": [
       "[1] 5"
      ]
     },
     "metadata": {},
     "output_type": "display_data"
    }
   ],
   "source": [
    "d <- data.frame(first = 4:6, second = c(\"a\", \"b\", \"c\"))\n",
    "d\n",
    "\n",
    "d[2,2]\n",
    "\n",
    "d[2, 1:2] # also: d[2, ]\n",
    "\n",
    "d$first\n",
    "\n",
    "d[, \"first\"]\n",
    "\n",
    "d[[1]]\n",
    "\n",
    "d[2, \"first\"]"
   ]
  },
  {
   "cell_type": "code",
   "execution_count": 28,
   "metadata": {},
   "outputs": [],
   "source": [
    "weather <- read.csv(\"weather.csv\")"
   ]
  },
  {
   "cell_type": "code",
   "execution_count": 29,
   "metadata": {},
   "outputs": [
    {
     "data": {
      "text/html": [
       "<table>\n",
       "<thead><tr><th scope=col>outlook</th><th scope=col>temperature</th><th scope=col>humidity</th><th scope=col>windy</th><th scope=col>play</th></tr></thead>\n",
       "<tbody>\n",
       "\t<tr><td>sunny   </td><td>85      </td><td>85      </td><td>false   </td><td>no      </td></tr>\n",
       "\t<tr><td>sunny   </td><td>80      </td><td>90      </td><td>true    </td><td>no      </td></tr>\n",
       "\t<tr><td>overcast</td><td>83      </td><td>86      </td><td>false   </td><td>yes     </td></tr>\n",
       "\t<tr><td>rainy   </td><td>70      </td><td>96      </td><td>false   </td><td>yes     </td></tr>\n",
       "\t<tr><td>rainy   </td><td>68      </td><td>80      </td><td>false   </td><td>yes     </td></tr>\n",
       "\t<tr><td>rainy   </td><td>65      </td><td>70      </td><td>true    </td><td>no      </td></tr>\n",
       "\t<tr><td>overcast</td><td>64      </td><td>65      </td><td>true    </td><td>yes     </td></tr>\n",
       "\t<tr><td>sunny   </td><td>72      </td><td>95      </td><td>false   </td><td>no      </td></tr>\n",
       "\t<tr><td>sunny   </td><td>69      </td><td>70      </td><td>false   </td><td>yes     </td></tr>\n",
       "\t<tr><td>rainy   </td><td>75      </td><td>80      </td><td>false   </td><td>yes     </td></tr>\n",
       "\t<tr><td>sunny   </td><td>75      </td><td>70      </td><td>true    </td><td>yes     </td></tr>\n",
       "\t<tr><td>overcast</td><td>72      </td><td>90      </td><td>true    </td><td>yes     </td></tr>\n",
       "\t<tr><td>overcast</td><td>81      </td><td>75      </td><td>false   </td><td>yes     </td></tr>\n",
       "\t<tr><td>rainy   </td><td>71      </td><td>91      </td><td>true    </td><td>no      </td></tr>\n",
       "</tbody>\n",
       "</table>\n"
      ],
      "text/latex": [
       "\\begin{tabular}{r|lllll}\n",
       " outlook & temperature & humidity & windy & play\\\\\n",
       "\\hline\n",
       "\t sunny    & 85       & 85       & false    & no      \\\\\n",
       "\t sunny    & 80       & 90       & true     & no      \\\\\n",
       "\t overcast & 83       & 86       & false    & yes     \\\\\n",
       "\t rainy    & 70       & 96       & false    & yes     \\\\\n",
       "\t rainy    & 68       & 80       & false    & yes     \\\\\n",
       "\t rainy    & 65       & 70       & true     & no      \\\\\n",
       "\t overcast & 64       & 65       & true     & yes     \\\\\n",
       "\t sunny    & 72       & 95       & false    & no      \\\\\n",
       "\t sunny    & 69       & 70       & false    & yes     \\\\\n",
       "\t rainy    & 75       & 80       & false    & yes     \\\\\n",
       "\t sunny    & 75       & 70       & true     & yes     \\\\\n",
       "\t overcast & 72       & 90       & true     & yes     \\\\\n",
       "\t overcast & 81       & 75       & false    & yes     \\\\\n",
       "\t rainy    & 71       & 91       & true     & no      \\\\\n",
       "\\end{tabular}\n"
      ],
      "text/markdown": [
       "\n",
       "outlook | temperature | humidity | windy | play | \n",
       "|---|---|---|---|---|---|---|---|---|---|---|---|---|---|\n",
       "| sunny    | 85       | 85       | false    | no       | \n",
       "| sunny    | 80       | 90       | true     | no       | \n",
       "| overcast | 83       | 86       | false    | yes      | \n",
       "| rainy    | 70       | 96       | false    | yes      | \n",
       "| rainy    | 68       | 80       | false    | yes      | \n",
       "| rainy    | 65       | 70       | true     | no       | \n",
       "| overcast | 64       | 65       | true     | yes      | \n",
       "| sunny    | 72       | 95       | false    | no       | \n",
       "| sunny    | 69       | 70       | false    | yes      | \n",
       "| rainy    | 75       | 80       | false    | yes      | \n",
       "| sunny    | 75       | 70       | true     | yes      | \n",
       "| overcast | 72       | 90       | true     | yes      | \n",
       "| overcast | 81       | 75       | false    | yes      | \n",
       "| rainy    | 71       | 91       | true     | no       | \n",
       "\n",
       "\n"
      ],
      "text/plain": [
       "   outlook  temperature humidity windy play\n",
       "1  sunny    85          85       false no  \n",
       "2  sunny    80          90       true  no  \n",
       "3  overcast 83          86       false yes \n",
       "4  rainy    70          96       false yes \n",
       "5  rainy    68          80       false yes \n",
       "6  rainy    65          70       true  no  \n",
       "7  overcast 64          65       true  yes \n",
       "8  sunny    72          95       false no  \n",
       "9  sunny    69          70       false yes \n",
       "10 rainy    75          80       false yes \n",
       "11 sunny    75          70       true  yes \n",
       "12 overcast 72          90       true  yes \n",
       "13 overcast 81          75       false yes \n",
       "14 rainy    71          91       true  no  "
      ]
     },
     "metadata": {},
     "output_type": "display_data"
    }
   ],
   "source": [
    "weather"
   ]
  },
  {
   "cell_type": "code",
   "execution_count": 34,
   "metadata": {},
   "outputs": [
    {
     "data": {
      "text/html": [
       "<table>\n",
       "<thead><tr><th></th><th scope=col>outlook</th><th scope=col>temperature</th><th scope=col>humidity</th><th scope=col>windy</th><th scope=col>play</th></tr></thead>\n",
       "<tbody>\n",
       "\t<tr><th scope=row>1</th><td>sunny</td><td>85   </td><td>85   </td><td>false</td><td>no   </td></tr>\n",
       "\t<tr><th scope=row>2</th><td>sunny</td><td>80   </td><td>90   </td><td>true </td><td>no   </td></tr>\n",
       "\t<tr><th scope=row>8</th><td>sunny</td><td>72   </td><td>95   </td><td>false</td><td>no   </td></tr>\n",
       "\t<tr><th scope=row>9</th><td>sunny</td><td>69   </td><td>70   </td><td>false</td><td>yes  </td></tr>\n",
       "\t<tr><th scope=row>11</th><td>sunny</td><td>75   </td><td>70   </td><td>true </td><td>yes  </td></tr>\n",
       "</tbody>\n",
       "</table>\n"
      ],
      "text/latex": [
       "\\begin{tabular}{r|lllll}\n",
       "  & outlook & temperature & humidity & windy & play\\\\\n",
       "\\hline\n",
       "\t1 & sunny & 85    & 85    & false & no   \\\\\n",
       "\t2 & sunny & 80    & 90    & true  & no   \\\\\n",
       "\t8 & sunny & 72    & 95    & false & no   \\\\\n",
       "\t9 & sunny & 69    & 70    & false & yes  \\\\\n",
       "\t11 & sunny & 75    & 70    & true  & yes  \\\\\n",
       "\\end{tabular}\n"
      ],
      "text/markdown": [
       "\n",
       "| <!--/--> | outlook | temperature | humidity | windy | play | \n",
       "|---|---|---|---|---|\n",
       "| 1 | sunny | 85    | 85    | false | no    | \n",
       "| 2 | sunny | 80    | 90    | true  | no    | \n",
       "| 8 | sunny | 72    | 95    | false | no    | \n",
       "| 9 | sunny | 69    | 70    | false | yes   | \n",
       "| 11 | sunny | 75    | 70    | true  | yes   | \n",
       "\n",
       "\n"
      ],
      "text/plain": [
       "   outlook temperature humidity windy play\n",
       "1  sunny   85          85       false no  \n",
       "2  sunny   80          90       true  no  \n",
       "8  sunny   72          95       false no  \n",
       "9  sunny   69          70       false yes \n",
       "11 sunny   75          70       true  yes "
      ]
     },
     "metadata": {},
     "output_type": "display_data"
    }
   ],
   "source": [
    "weather[weather$outlook == 'sunny',]"
   ]
  },
  {
   "cell_type": "code",
   "execution_count": 58,
   "metadata": {
    "code_folding": [],
    "scrolled": false
   },
   "outputs": [
    {
     "data": {
      "text/html": [
       "<table>\n",
       "<thead><tr><th scope=col>outlook</th><th scope=col>temperature</th><th scope=col>humidity</th><th scope=col>windy</th><th scope=col>play</th></tr></thead>\n",
       "<tbody>\n",
       "</tbody>\n",
       "</table>\n"
      ],
      "text/latex": [
       "\\begin{tabular}{r|lllll}\n",
       " outlook & temperature & humidity & windy & play\\\\\n",
       "\\hline\n",
       "\\end{tabular}\n"
      ],
      "text/markdown": [
       "\n",
       "outlook | temperature | humidity | windy | play | \n",
       "||\n",
       "\n",
       "\n"
      ],
      "text/plain": [
       "     outlook temperature humidity windy play"
      ]
     },
     "metadata": {},
     "output_type": "display_data"
    }
   ],
   "source": [
    "weather[(weather$humidity > 75.0 & weather$windy==FALSE),]"
   ]
  },
  {
   "cell_type": "code",
   "execution_count": 64,
   "metadata": {},
   "outputs": [
    {
     "data": {
      "text/html": [
       "<ol class=list-inline>\n",
       "\t<li>FALSE</li>\n",
       "\t<li>FALSE</li>\n",
       "\t<li>FALSE</li>\n",
       "\t<li>FALSE</li>\n",
       "\t<li>FALSE</li>\n",
       "\t<li>FALSE</li>\n",
       "\t<li>FALSE</li>\n",
       "\t<li>FALSE</li>\n",
       "\t<li>FALSE</li>\n",
       "\t<li>FALSE</li>\n",
       "\t<li>FALSE</li>\n",
       "\t<li>FALSE</li>\n",
       "\t<li>FALSE</li>\n",
       "\t<li>FALSE</li>\n",
       "</ol>\n"
      ],
      "text/latex": [
       "\\begin{enumerate*}\n",
       "\\item FALSE\n",
       "\\item FALSE\n",
       "\\item FALSE\n",
       "\\item FALSE\n",
       "\\item FALSE\n",
       "\\item FALSE\n",
       "\\item FALSE\n",
       "\\item FALSE\n",
       "\\item FALSE\n",
       "\\item FALSE\n",
       "\\item FALSE\n",
       "\\item FALSE\n",
       "\\item FALSE\n",
       "\\item FALSE\n",
       "\\end{enumerate*}\n"
      ],
      "text/markdown": [
       "1. FALSE\n",
       "2. FALSE\n",
       "3. FALSE\n",
       "4. FALSE\n",
       "5. FALSE\n",
       "6. FALSE\n",
       "7. FALSE\n",
       "8. FALSE\n",
       "9. FALSE\n",
       "10. FALSE\n",
       "11. FALSE\n",
       "12. FALSE\n",
       "13. FALSE\n",
       "14. FALSE\n",
       "\n",
       "\n"
      ],
      "text/plain": [
       " [1] FALSE FALSE FALSE FALSE FALSE FALSE FALSE FALSE FALSE FALSE FALSE FALSE\n",
       "[13] FALSE FALSE"
      ]
     },
     "metadata": {},
     "output_type": "display_data"
    }
   ],
   "source": [
    "weather$windy==TRUE"
   ]
  },
  {
   "cell_type": "code",
   "execution_count": 65,
   "metadata": {},
   "outputs": [
    {
     "data": {
      "text/html": [
       "<ol class=list-inline>\n",
       "\t<li>false</li>\n",
       "\t<li>true</li>\n",
       "\t<li>false</li>\n",
       "\t<li>false</li>\n",
       "\t<li>false</li>\n",
       "\t<li>true</li>\n",
       "\t<li>true</li>\n",
       "\t<li>false</li>\n",
       "\t<li>false</li>\n",
       "\t<li>false</li>\n",
       "\t<li>true</li>\n",
       "\t<li>true</li>\n",
       "\t<li>false</li>\n",
       "\t<li>true</li>\n",
       "</ol>\n",
       "\n",
       "<details>\n",
       "\t<summary style=display:list-item;cursor:pointer>\n",
       "\t\t<strong>Levels</strong>:\n",
       "\t</summary>\n",
       "\t<ol class=list-inline>\n",
       "\t\t<li>'false'</li>\n",
       "\t\t<li>'true'</li>\n",
       "\t</ol>\n",
       "</details>"
      ],
      "text/latex": [
       "\\begin{enumerate*}\n",
       "\\item false\n",
       "\\item true\n",
       "\\item false\n",
       "\\item false\n",
       "\\item false\n",
       "\\item true\n",
       "\\item true\n",
       "\\item false\n",
       "\\item false\n",
       "\\item false\n",
       "\\item true\n",
       "\\item true\n",
       "\\item false\n",
       "\\item true\n",
       "\\end{enumerate*}\n",
       "\n",
       "\\emph{Levels}: \\begin{enumerate*}\n",
       "\\item 'false'\n",
       "\\item 'true'\n",
       "\\end{enumerate*}\n"
      ],
      "text/markdown": [
       "1. false\n",
       "2. true\n",
       "3. false\n",
       "4. false\n",
       "5. false\n",
       "6. true\n",
       "7. true\n",
       "8. false\n",
       "9. false\n",
       "10. false\n",
       "11. true\n",
       "12. true\n",
       "13. false\n",
       "14. true\n",
       "\n",
       "\n",
       "\n",
       "**Levels**: 1. 'false'\n",
       "2. 'true'\n",
       "\n",
       "\n"
      ],
      "text/plain": [
       " [1] false true  false false false true  true  false false false true  true \n",
       "[13] false true \n",
       "Levels: false true"
      ]
     },
     "metadata": {},
     "output_type": "display_data"
    }
   ],
   "source": [
    "weather$windy"
   ]
  },
  {
   "cell_type": "code",
   "execution_count": 66,
   "metadata": {},
   "outputs": [],
   "source": [
    "weather$windy <-sapply(weather$windy, as.logical)"
   ]
  },
  {
   "cell_type": "code",
   "execution_count": 77,
   "metadata": {},
   "outputs": [
    {
     "data": {
      "text/html": [
       "<table>\n",
       "<thead><tr><th></th><th scope=col>outlook</th><th scope=col>play</th></tr></thead>\n",
       "<tbody>\n",
       "\t<tr><th scope=row>1</th><td>sunny   </td><td>no      </td></tr>\n",
       "\t<tr><th scope=row>3</th><td>overcast</td><td>yes     </td></tr>\n",
       "\t<tr><th scope=row>4</th><td>rainy   </td><td>yes     </td></tr>\n",
       "\t<tr><th scope=row>5</th><td>rainy   </td><td>yes     </td></tr>\n",
       "\t<tr><th scope=row>8</th><td>sunny   </td><td>no      </td></tr>\n",
       "\t<tr><th scope=row>10</th><td>rainy   </td><td>yes     </td></tr>\n",
       "</tbody>\n",
       "</table>\n"
      ],
      "text/latex": [
       "\\begin{tabular}{r|ll}\n",
       "  & outlook & play\\\\\n",
       "\\hline\n",
       "\t1 & sunny    & no      \\\\\n",
       "\t3 & overcast & yes     \\\\\n",
       "\t4 & rainy    & yes     \\\\\n",
       "\t5 & rainy    & yes     \\\\\n",
       "\t8 & sunny    & no      \\\\\n",
       "\t10 & rainy    & yes     \\\\\n",
       "\\end{tabular}\n"
      ],
      "text/markdown": [
       "\n",
       "| <!--/--> | outlook | play | \n",
       "|---|---|---|---|---|---|\n",
       "| 1 | sunny    | no       | \n",
       "| 3 | overcast | yes      | \n",
       "| 4 | rainy    | yes      | \n",
       "| 5 | rainy    | yes      | \n",
       "| 8 | sunny    | no       | \n",
       "| 10 | rainy    | yes      | \n",
       "\n",
       "\n"
      ],
      "text/plain": [
       "   outlook  play\n",
       "1  sunny    no  \n",
       "3  overcast yes \n",
       "4  rainy    yes \n",
       "5  rainy    yes \n",
       "8  sunny    no  \n",
       "10 rainy    yes "
      ]
     },
     "metadata": {},
     "output_type": "display_data"
    }
   ],
   "source": [
    "weather[(weather$humidity > 75.0 & weather$windy==FALSE), c(\"outlook\", \"play\")]"
   ]
  },
  {
   "cell_type": "code",
   "execution_count": 78,
   "metadata": {},
   "outputs": [
    {
     "data": {
      "text/html": [
       "<table>\n",
       "<thead><tr><th scope=col>outlook</th><th scope=col>temperature</th><th scope=col>humidity</th><th scope=col>windy</th><th scope=col>play</th></tr></thead>\n",
       "<tbody>\n",
       "\t<tr><td>sunny   </td><td>85      </td><td>85      </td><td>FALSE   </td><td>no      </td></tr>\n",
       "\t<tr><td>sunny   </td><td>80      </td><td>90      </td><td> TRUE   </td><td>no      </td></tr>\n",
       "\t<tr><td>overcast</td><td>83      </td><td>86      </td><td>FALSE   </td><td>yes     </td></tr>\n",
       "\t<tr><td>rainy   </td><td>70      </td><td>96      </td><td>FALSE   </td><td>yes     </td></tr>\n",
       "\t<tr><td>rainy   </td><td>68      </td><td>80      </td><td>FALSE   </td><td>yes     </td></tr>\n",
       "\t<tr><td>rainy   </td><td>65      </td><td>70      </td><td> TRUE   </td><td>no      </td></tr>\n",
       "\t<tr><td>overcast</td><td>64      </td><td>65      </td><td> TRUE   </td><td>yes     </td></tr>\n",
       "\t<tr><td>sunny   </td><td>72      </td><td>95      </td><td>FALSE   </td><td>no      </td></tr>\n",
       "\t<tr><td>sunny   </td><td>69      </td><td>70      </td><td>FALSE   </td><td>yes     </td></tr>\n",
       "\t<tr><td>rainy   </td><td>75      </td><td>80      </td><td>FALSE   </td><td>yes     </td></tr>\n",
       "\t<tr><td>sunny   </td><td>75      </td><td>70      </td><td> TRUE   </td><td>yes     </td></tr>\n",
       "\t<tr><td>overcast</td><td>72      </td><td>90      </td><td> TRUE   </td><td>yes     </td></tr>\n",
       "\t<tr><td>overcast</td><td>81      </td><td>75      </td><td>FALSE   </td><td>yes     </td></tr>\n",
       "\t<tr><td>rainy   </td><td>71      </td><td>91      </td><td> TRUE   </td><td>no      </td></tr>\n",
       "</tbody>\n",
       "</table>\n"
      ],
      "text/latex": [
       "\\begin{tabular}{r|lllll}\n",
       " outlook & temperature & humidity & windy & play\\\\\n",
       "\\hline\n",
       "\t sunny    & 85       & 85       & FALSE    & no      \\\\\n",
       "\t sunny    & 80       & 90       &  TRUE    & no      \\\\\n",
       "\t overcast & 83       & 86       & FALSE    & yes     \\\\\n",
       "\t rainy    & 70       & 96       & FALSE    & yes     \\\\\n",
       "\t rainy    & 68       & 80       & FALSE    & yes     \\\\\n",
       "\t rainy    & 65       & 70       &  TRUE    & no      \\\\\n",
       "\t overcast & 64       & 65       &  TRUE    & yes     \\\\\n",
       "\t sunny    & 72       & 95       & FALSE    & no      \\\\\n",
       "\t sunny    & 69       & 70       & FALSE    & yes     \\\\\n",
       "\t rainy    & 75       & 80       & FALSE    & yes     \\\\\n",
       "\t sunny    & 75       & 70       &  TRUE    & yes     \\\\\n",
       "\t overcast & 72       & 90       &  TRUE    & yes     \\\\\n",
       "\t overcast & 81       & 75       & FALSE    & yes     \\\\\n",
       "\t rainy    & 71       & 91       &  TRUE    & no      \\\\\n",
       "\\end{tabular}\n"
      ],
      "text/markdown": [
       "\n",
       "outlook | temperature | humidity | windy | play | \n",
       "|---|---|---|---|---|---|---|---|---|---|---|---|---|---|\n",
       "| sunny    | 85       | 85       | FALSE    | no       | \n",
       "| sunny    | 80       | 90       |  TRUE    | no       | \n",
       "| overcast | 83       | 86       | FALSE    | yes      | \n",
       "| rainy    | 70       | 96       | FALSE    | yes      | \n",
       "| rainy    | 68       | 80       | FALSE    | yes      | \n",
       "| rainy    | 65       | 70       |  TRUE    | no       | \n",
       "| overcast | 64       | 65       |  TRUE    | yes      | \n",
       "| sunny    | 72       | 95       | FALSE    | no       | \n",
       "| sunny    | 69       | 70       | FALSE    | yes      | \n",
       "| rainy    | 75       | 80       | FALSE    | yes      | \n",
       "| sunny    | 75       | 70       |  TRUE    | yes      | \n",
       "| overcast | 72       | 90       |  TRUE    | yes      | \n",
       "| overcast | 81       | 75       | FALSE    | yes      | \n",
       "| rainy    | 71       | 91       |  TRUE    | no       | \n",
       "\n",
       "\n"
      ],
      "text/plain": [
       "   outlook  temperature humidity windy play\n",
       "1  sunny    85          85       FALSE no  \n",
       "2  sunny    80          90        TRUE no  \n",
       "3  overcast 83          86       FALSE yes \n",
       "4  rainy    70          96       FALSE yes \n",
       "5  rainy    68          80       FALSE yes \n",
       "6  rainy    65          70        TRUE no  \n",
       "7  overcast 64          65        TRUE yes \n",
       "8  sunny    72          95       FALSE no  \n",
       "9  sunny    69          70       FALSE yes \n",
       "10 rainy    75          80       FALSE yes \n",
       "11 sunny    75          70        TRUE yes \n",
       "12 overcast 72          90        TRUE yes \n",
       "13 overcast 81          75       FALSE yes \n",
       "14 rainy    71          91        TRUE no  "
      ]
     },
     "metadata": {},
     "output_type": "display_data"
    },
    {
     "data": {
      "text/html": [
       "<ol class=list-inline>\n",
       "\t<li>14</li>\n",
       "\t<li>5</li>\n",
       "</ol>\n"
      ],
      "text/latex": [
       "\\begin{enumerate*}\n",
       "\\item 14\n",
       "\\item 5\n",
       "\\end{enumerate*}\n"
      ],
      "text/markdown": [
       "1. 14\n",
       "2. 5\n",
       "\n",
       "\n"
      ],
      "text/plain": [
       "[1] 14  5"
      ]
     },
     "metadata": {},
     "output_type": "display_data"
    },
    {
     "data": {
      "text/html": [
       "14"
      ],
      "text/latex": [
       "14"
      ],
      "text/markdown": [
       "14"
      ],
      "text/plain": [
       "[1] 14"
      ]
     },
     "metadata": {},
     "output_type": "display_data"
    },
    {
     "data": {
      "text/html": [
       "5"
      ],
      "text/latex": [
       "5"
      ],
      "text/markdown": [
       "5"
      ],
      "text/plain": [
       "[1] 5"
      ]
     },
     "metadata": {},
     "output_type": "display_data"
    },
    {
     "data": {
      "text/html": [
       "<table>\n",
       "<thead><tr><th scope=col>outlook</th><th scope=col>temperature</th><th scope=col>humidity</th><th scope=col>windy</th><th scope=col>play</th></tr></thead>\n",
       "<tbody>\n",
       "\t<tr><td>sunny   </td><td>85      </td><td>85      </td><td>FALSE   </td><td>no      </td></tr>\n",
       "\t<tr><td>sunny   </td><td>80      </td><td>90      </td><td> TRUE   </td><td>no      </td></tr>\n",
       "\t<tr><td>overcast</td><td>83      </td><td>86      </td><td>FALSE   </td><td>yes     </td></tr>\n",
       "\t<tr><td>rainy   </td><td>70      </td><td>96      </td><td>FALSE   </td><td>yes     </td></tr>\n",
       "\t<tr><td>rainy   </td><td>68      </td><td>80      </td><td>FALSE   </td><td>yes     </td></tr>\n",
       "\t<tr><td>rainy   </td><td>65      </td><td>70      </td><td> TRUE   </td><td>no      </td></tr>\n",
       "</tbody>\n",
       "</table>\n"
      ],
      "text/latex": [
       "\\begin{tabular}{r|lllll}\n",
       " outlook & temperature & humidity & windy & play\\\\\n",
       "\\hline\n",
       "\t sunny    & 85       & 85       & FALSE    & no      \\\\\n",
       "\t sunny    & 80       & 90       &  TRUE    & no      \\\\\n",
       "\t overcast & 83       & 86       & FALSE    & yes     \\\\\n",
       "\t rainy    & 70       & 96       & FALSE    & yes     \\\\\n",
       "\t rainy    & 68       & 80       & FALSE    & yes     \\\\\n",
       "\t rainy    & 65       & 70       &  TRUE    & no      \\\\\n",
       "\\end{tabular}\n"
      ],
      "text/markdown": [
       "\n",
       "outlook | temperature | humidity | windy | play | \n",
       "|---|---|---|---|---|---|\n",
       "| sunny    | 85       | 85       | FALSE    | no       | \n",
       "| sunny    | 80       | 90       |  TRUE    | no       | \n",
       "| overcast | 83       | 86       | FALSE    | yes      | \n",
       "| rainy    | 70       | 96       | FALSE    | yes      | \n",
       "| rainy    | 68       | 80       | FALSE    | yes      | \n",
       "| rainy    | 65       | 70       |  TRUE    | no       | \n",
       "\n",
       "\n"
      ],
      "text/plain": [
       "  outlook  temperature humidity windy play\n",
       "1 sunny    85          85       FALSE no  \n",
       "2 sunny    80          90        TRUE no  \n",
       "3 overcast 83          86       FALSE yes \n",
       "4 rainy    70          96       FALSE yes \n",
       "5 rainy    68          80       FALSE yes \n",
       "6 rainy    65          70        TRUE no  "
      ]
     },
     "metadata": {},
     "output_type": "display_data"
    },
    {
     "data": {
      "text/plain": [
       "     outlook   temperature       humidity       windy          play  \n",
       " overcast:4   Min.   :64.00   Min.   :65.00   Mode :logical   no :5  \n",
       " rainy   :5   1st Qu.:69.25   1st Qu.:71.25   FALSE:8         yes:9  \n",
       " sunny   :5   Median :72.00   Median :82.50   TRUE :6                \n",
       "              Mean   :73.57   Mean   :81.64                          \n",
       "              3rd Qu.:78.75   3rd Qu.:90.00                          \n",
       "              Max.   :85.00   Max.   :96.00                          "
      ]
     },
     "metadata": {},
     "output_type": "display_data"
    },
    {
     "name": "stdout",
     "output_type": "stream",
     "text": [
      "'data.frame':\t14 obs. of  5 variables:\n",
      " $ outlook    : Factor w/ 3 levels \"overcast\",\"rainy\",..: 3 3 1 2 2 2 1 3 3 2 ...\n",
      " $ temperature: int  85 80 83 70 68 65 64 72 69 75 ...\n",
      " $ humidity   : int  85 90 86 96 80 70 65 95 70 80 ...\n",
      " $ windy      : logi  FALSE TRUE FALSE FALSE FALSE TRUE ...\n",
      " $ play       : Factor w/ 2 levels \"no\",\"yes\": 1 1 2 2 2 1 2 1 2 2 ...\n"
     ]
    },
    {
     "data": {
      "text/plain": [
       "\n",
       "overcast    rainy    sunny \n",
       "       4        5        5 "
      ]
     },
     "metadata": {},
     "output_type": "display_data"
    },
    {
     "data": {
      "text/plain": [
       "          \n",
       "           no yes\n",
       "  overcast  0   4\n",
       "  rainy     2   3\n",
       "  sunny     3   2"
      ]
     },
     "metadata": {},
     "output_type": "display_data"
    }
   ],
   "source": [
    "weather\n",
    "\n",
    "dim(weather) # dimension\n",
    "\n",
    "nrow(weather) # number of rows\n",
    "\n",
    "ncol(weather) # number of columns\n",
    "\n",
    "head(weather) # see also tail function\n",
    "\n",
    "summary(weather)\n",
    "\n",
    "str(weather)\n",
    "\n",
    "table(weather$outlook)\n",
    "\n",
    "table(weather$outlook, weather$play)"
   ]
  },
  {
   "cell_type": "code",
   "execution_count": null,
   "metadata": {},
   "outputs": [],
   "source": []
  }
 ],
 "metadata": {
  "kernelspec": {
   "display_name": "R",
   "language": "R",
   "name": "ir"
  },
  "language_info": {
   "codemirror_mode": "r",
   "file_extension": ".r",
   "mimetype": "text/x-r-source",
   "name": "R",
   "pygments_lexer": "r",
   "version": "3.4.1"
  },
  "toc": {
   "nav_menu": {},
   "number_sections": true,
   "sideBar": true,
   "skip_h1_title": false,
   "toc_cell": false,
   "toc_position": {},
   "toc_section_display": "block",
   "toc_window_display": false
  },
  "varInspector": {
   "cols": {
    "lenName": 16,
    "lenType": 16,
    "lenVar": 40
   },
   "kernels_config": {
    "python": {
     "delete_cmd_postfix": "",
     "delete_cmd_prefix": "del ",
     "library": "var_list.py",
     "varRefreshCmd": "print(var_dic_list())"
    },
    "r": {
     "delete_cmd_postfix": ") ",
     "delete_cmd_prefix": "rm(",
     "library": "var_list.r",
     "varRefreshCmd": "cat(var_dic_list()) "
    }
   },
   "types_to_exclude": [
    "module",
    "function",
    "builtin_function_or_method",
    "instance",
    "_Feature"
   ],
   "window_display": false
  }
 },
 "nbformat": 4,
 "nbformat_minor": 2
}
